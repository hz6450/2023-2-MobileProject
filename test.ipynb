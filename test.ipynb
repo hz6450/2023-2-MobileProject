{
 "cells": [
  {
   "cell_type": "code",
   "execution_count": 13,
   "metadata": {},
   "outputs": [
    {
     "ename": "IndexError",
     "evalue": "list index out of range",
     "output_type": "error",
     "traceback": [
      "\u001b[1;31m---------------------------------------------------------------------------\u001b[0m",
      "\u001b[1;31mIndexError\u001b[0m                                Traceback (most recent call last)",
      "\u001b[1;32mc:\\Users\\jhy97\\OneDrive\\바탕 화면\\Mobile_12_Code\\2023-2-MobileProject\\test.ipynb 셀 2\u001b[0m line \u001b[0;36m1\n\u001b[0;32m     <a href='vscode-notebook-cell:/c%3A/Users/jhy97/OneDrive/%EB%B0%94%ED%83%95%20%ED%99%94%EB%A9%B4/Mobile_12_Code/2023-2-MobileProject/test.ipynb#W2sZmlsZQ%3D%3D?line=11'>12</a>\u001b[0m ans_list \u001b[39m=\u001b[39m []\n\u001b[0;32m     <a href='vscode-notebook-cell:/c%3A/Users/jhy97/OneDrive/%EB%B0%94%ED%83%95%20%ED%99%94%EB%A9%B4/Mobile_12_Code/2023-2-MobileProject/test.ipynb#W2sZmlsZQ%3D%3D?line=13'>14</a>\u001b[0m \u001b[39mfor\u001b[39;00m i \u001b[39min\u001b[39;00m \u001b[39mrange\u001b[39m(m):\n\u001b[1;32m---> <a href='vscode-notebook-cell:/c%3A/Users/jhy97/OneDrive/%EB%B0%94%ED%83%95%20%ED%99%94%EB%A9%B4/Mobile_12_Code/2023-2-MobileProject/test.ipynb#W2sZmlsZQ%3D%3D?line=14'>15</a>\u001b[0m     a \u001b[39m=\u001b[39m n_list\u001b[39m.\u001b[39mcount(m_list[i])\n\u001b[0;32m     <a href='vscode-notebook-cell:/c%3A/Users/jhy97/OneDrive/%EB%B0%94%ED%83%95%20%ED%99%94%EB%A9%B4/Mobile_12_Code/2023-2-MobileProject/test.ipynb#W2sZmlsZQ%3D%3D?line=15'>16</a>\u001b[0m     ans_list\u001b[39m.\u001b[39mappend(a)\n\u001b[0;32m     <a href='vscode-notebook-cell:/c%3A/Users/jhy97/OneDrive/%EB%B0%94%ED%83%95%20%ED%99%94%EB%A9%B4/Mobile_12_Code/2023-2-MobileProject/test.ipynb#W2sZmlsZQ%3D%3D?line=17'>18</a>\u001b[0m \u001b[39mprint\u001b[39m(\u001b[39m*\u001b[39mans_list)\n",
      "\u001b[1;31mIndexError\u001b[0m: list index out of range"
     ]
    }
   ],
   "source": [
    "from sys import stdin\n",
    "from collections import Counter\n",
    "\n",
    "n = stdin.readline()\n",
    "\n",
    "n_list = stdin.readline().split()\n",
    "\n",
    "m = stdin.readline()\n",
    "\n",
    "m_list = stdin.readline().split()\n",
    "\n",
    "count = Counter(n_list)\n",
    "\n",
    "for i in range(m):\n",
    "    a = n_list.count(m_list[i])\n",
    "    ans_list.append(a)\n",
    "\n",
    "print(*ans_list)"
   ]
  },
  {
   "cell_type": "code",
   "execution_count": null,
   "metadata": {},
   "outputs": [],
   "source": [
    "from sys import stdin\n",
    "from collections import Counter\n",
    "\n",
    "n = stdin.readline()\n",
    "\n",
    "n_list = stdin.readline().split()\n",
    "\n",
    "m = stdin.readline()\n",
    "\n",
    "m_list = stdin.readline().split()\n",
    "\n",
    "count = Counter(n_list)\n",
    "\n",
    "print(' '.join(f'{count[m]}' if m in count else '0' for m in m_list))"
   ]
  }
 ],
 "metadata": {
  "kernelspec": {
   "display_name": "Python 3",
   "language": "python",
   "name": "python3"
  },
  "language_info": {
   "codemirror_mode": {
    "name": "ipython",
    "version": 3
   },
   "file_extension": ".py",
   "mimetype": "text/x-python",
   "name": "python",
   "nbconvert_exporter": "python",
   "pygments_lexer": "ipython3",
   "version": "3.9.13"
  }
 },
 "nbformat": 4,
 "nbformat_minor": 2
}
